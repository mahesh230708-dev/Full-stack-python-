{
 "cells": [
  {
   "cell_type": "code",
   "execution_count": null,
   "id": "e645d178-e9db-49a5-82a5-112de94b064f",
   "metadata": {},
   "outputs": [],
   "source": [
    "def num(numbers):\n",
    "i=0\n",
    "while len(numbers)>1:\n",
    "        P=\"\"\n",
    "        for i in range(0,len(numbers),2): \n",
    "            if i+1<len(numbers):\n",
    "               A=int(numbers[i])+int(numbers[i+1])\n",
    "               P+=str(A)\n",
    "            else:\n",
    "               P+=numbers[i]\n",
    "         numbers=P\n",
    "    return int(numbers)\n",
    "print(numbers)"
   ]
  },
  {
   "cell_type": "code",
   "execution_count": null,
   "id": "ebabe2bd-33c1-4ced-97b1-b2ededc21b60",
   "metadata": {},
   "outputs": [],
   "source": []
  },
  {
   "cell_type": "code",
   "execution_count": null,
   "id": "926c40dd-c349-4d5c-9edb-de09f58a2a83",
   "metadata": {},
   "outputs": [],
   "source": [
    "numbers=\"442265\"\n",
    "i=0\n",
    "while len(numbers)>1:\n",
    "    for i in range(0,len(numbers),2): \n",
    "        P=\"\"\n",
    "        if i+1<len(numbers):\n",
    "           A=int(numbers[i])+int(numbers[i+1])\n",
    "           P+=str(A)\n",
    "           i+=2\n",
    "        else:\n",
    "           P+=numbers[i]\n",
    "           i+=1\n",
    "    numbers+=P\n",
    "\n",
    "return int(numbers)"
   ]
  },
  {
   "cell_type": "code",
   "execution_count": null,
   "id": "2262c285-47d3-4a28-83ac-d42a65544801",
   "metadata": {},
   "outputs": [],
   "source": [
    "def num(numbers):\n",
    "    i=0\n",
    "    while len(numbers)>1:\n",
    "        P=\"\"\n",
    "        for i in range(0,len(numbers),2): \n",
    "            if i+1<len(numbers):\n",
    "               A=int(numbers[i])+int(numbers[i+1])\n",
    "               P+=str(A)\n",
    "            else:\n",
    "               P+=numbers[i]\n",
    "        numbers=P\n",
    "    return int(numbers)\n",
    "number=\"442256\"\n",
    "result=num(number)\n",
    "print(result)"
   ]
  },
  {
   "cell_type": "code",
   "execution_count": 1,
   "id": "f9b7f2ce-5d10-4f36-b65f-1833368cb169",
   "metadata": {},
   "outputs": [
    {
     "name": "stdin",
     "output_type": "stream",
     "text": [
      "Enter: 556689\n"
     ]
    },
    {
     "name": "stdout",
     "output_type": "stream",
     "text": [
      "final value: 3\n"
     ]
    }
   ],
   "source": [
    "numbers=input(\"Enter:\")\n",
    "while len(numbers)>1:\n",
    "    S=\"\"\n",
    "    for i in range(0,len(numbers),2):\n",
    "        if i+1<len(numbers):\n",
    "            A=int(numbers[i])+int(numbers[i+1])\n",
    "            S+=str(A)\n",
    "        else:\n",
    "            S+=numbers[i]\n",
    "    numbers=S\n",
    "print(\"final value:\",int(numbers))"
   ]
  },
  {
   "cell_type": "code",
   "execution_count": null,
   "id": "6d1057a8-7324-4aae-92ec-aa8e9b7f7875",
   "metadata": {},
   "outputs": [],
   "source": []
  }
 ],
 "metadata": {
  "kernelspec": {
   "display_name": "Python [conda env:base] *",
   "language": "python",
   "name": "conda-base-py"
  },
  "language_info": {
   "codemirror_mode": {
    "name": "ipython",
    "version": 3
   },
   "file_extension": ".py",
   "mimetype": "text/x-python",
   "name": "python",
   "nbconvert_exporter": "python",
   "pygments_lexer": "ipython3",
   "version": "3.13.5"
  }
 },
 "nbformat": 4,
 "nbformat_minor": 5
}
