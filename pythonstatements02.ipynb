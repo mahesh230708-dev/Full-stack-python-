{
 "cells": [
  {
   "cell_type": "code",
   "execution_count": 1,
   "id": "9c8080e8-e9c6-42e3-abd4-3f05e8f3178c",
   "metadata": {},
   "outputs": [
    {
     "name": "stdin",
     "output_type": "stream",
     "text": [
      "Enter ID: 1001\n"
     ]
    },
    {
     "name": "stdout",
     "output_type": "stream",
     "text": [
      "Present\n"
     ]
    }
   ],
   "source": [
    "List=[1001,1002,1003,1004,1005,1006,1007,1008,1009,1010]\n",
    "ID=int(input(\"Enter ID:\"))\n",
    "if ID in List:\n",
    "   print(\"Present\");\n",
    "else:\n",
    "   print(\"Not Available\");"
   ]
  },
  {
   "cell_type": "code",
   "execution_count": 11,
   "id": "e982e097-347a-4421-b464-b4b140f3cb09",
   "metadata": {},
   "outputs": [
    {
     "name": "stdout",
     "output_type": "stream",
     "text": [
      "0\n",
      "1\n",
      "2\n",
      "4\n",
      "5\n",
      "6\n",
      "8\n",
      "10\n"
     ]
    }
   ],
   "source": [
    "for i in range(0,20,3):\n",
    "    print(i)"
   ]
  },
  {
   "cell_type": "code",
   "execution_count": 17,
   "id": "3d0540e1-6571-440a-b6fd-b0a2686ee4e2",
   "metadata": {},
   "outputs": [
    {
     "ename": "TypeError",
     "evalue": "'int' object is not subscriptable",
     "output_type": "error",
     "traceback": [
      "\u001b[1;31m---------------------------------------------------------------------------\u001b[0m",
      "\u001b[1;31mTypeError\u001b[0m                                 Traceback (most recent call last)",
      "Cell \u001b[1;32mIn[17], line 3\u001b[0m\n\u001b[0;32m      1\u001b[0m A\u001b[38;5;241m=\u001b[39m\u001b[38;5;241m7890\u001b[39m\n\u001b[0;32m      2\u001b[0m str1\u001b[38;5;241m=\u001b[39m\u001b[38;5;28mstr\u001b[39m(A)\n\u001b[1;32m----> 3\u001b[0m B\u001b[38;5;241m=\u001b[39m\u001b[38;5;28mint\u001b[39m(A[\u001b[38;5;241m0\u001b[39m]\u001b[38;5;241m+\u001b[39mA[\u001b[38;5;241m1\u001b[39m])\n",
      "\u001b[1;31mTypeError\u001b[0m: 'int' object is not subscriptable"
     ]
    }
   ],
   "source": [
    "A=7890\n",
    "str1=str(A)\n",
    "B=int(A[0]+A[1])"
   ]
  },
  {
   "cell_type": "code",
   "execution_count": null,
   "id": "3cc554f4-3767-49c7-8515-05fec8798c0f",
   "metadata": {},
   "outputs": [],
   "source": []
  }
 ],
 "metadata": {
  "kernelspec": {
   "display_name": "Python [conda env:base] *",
   "language": "python",
   "name": "conda-base-py"
  },
  "language_info": {
   "codemirror_mode": {
    "name": "ipython",
    "version": 3
   },
   "file_extension": ".py",
   "mimetype": "text/x-python",
   "name": "python",
   "nbconvert_exporter": "python",
   "pygments_lexer": "ipython3",
   "version": "3.13.5"
  }
 },
 "nbformat": 4,
 "nbformat_minor": 5
}
